{
 "cells": [
  {
   "cell_type": "markdown",
   "metadata": {},
   "source": [
    "# Function with no arguments "
   ]
  },
  {
   "cell_type": "code",
   "execution_count": 12,
   "metadata": {},
   "outputs": [
    {
     "name": "stdout",
     "output_type": "stream",
     "text": [
      "Hello\n"
     ]
    }
   ],
   "source": [
    "def printHello():\n",
    "    print(\"Hello\")\n",
    "\n",
    "printHello()"
   ]
  },
  {
   "cell_type": "markdown",
   "metadata": {},
   "source": [
    "# Function with single argument"
   ]
  },
  {
   "cell_type": "code",
   "execution_count": 42,
   "metadata": {},
   "outputs": [
    {
     "name": "stdout",
     "output_type": "stream",
     "text": [
      "Hello Raj\n"
     ]
    }
   ],
   "source": [
    "def printName(name):\n",
    "    \"\"\"\n",
    "    This function greets the user\n",
    "    \n",
    "    Parameters\n",
    "    ----------\n",
    "    name: A string\n",
    "          Specifies the name of the user\n",
    "    \"\"\"\n",
    "    print(f\"Hello {name}\")\n",
    "\n",
    "printName(\"Raj\")"
   ]
  },
  {
   "cell_type": "markdown",
   "metadata": {},
   "source": [
    "# Function with more than one argument"
   ]
  },
  {
   "cell_type": "code",
   "execution_count": 14,
   "metadata": {},
   "outputs": [
    {
     "name": "stdout",
     "output_type": "stream",
     "text": [
      "Raj has scored 56 marks\n"
     ]
    }
   ],
   "source": [
    "def printNameAndScore(name, score, sub):\n",
    "    \"\"\"\n",
    "    This function greets the user\n",
    "    \n",
    "    Parameters\n",
    "    ----------\n",
    "    name: a string\n",
    "          Specifies the name of the user\n",
    "    score: a float or an integer\n",
    "           Specifies the marks scored by the user\n",
    "    \"\"\"\n",
    "    print(f\"{name} has scored {score} marks\")\n",
    "\n",
    "printNameAndScore( \"Raj\", sub = \"A\", score = 56)\n",
    "#printNameAndScore(56, \"Raj\")"
   ]
  },
  {
   "cell_type": "markdown",
   "metadata": {},
   "source": [
    "# Function with default arguments"
   ]
  },
  {
   "cell_type": "code",
   "execution_count": 36,
   "metadata": {},
   "outputs": [
    {
     "name": "stdout",
     "output_type": "stream",
     "text": [
      "Sum is 3\n"
     ]
    }
   ],
   "source": [
    "def sum(b, a=1):\n",
    "    print(f\"Sum is {a+b}\")\n",
    "\n",
    "sum(2)"
   ]
  },
  {
   "cell_type": "markdown",
   "metadata": {},
   "source": [
    "# Function with variable length arguments"
   ]
  },
  {
   "cell_type": "code",
   "execution_count": 5,
   "metadata": {},
   "outputs": [
    {
     "name": "stdout",
     "output_type": "stream",
     "text": [
      "Sum is 0\n"
     ]
    }
   ],
   "source": [
    "def sum(*nums):\n",
    "    s = 0\n",
    "    for num in nums:\n",
    "        s += num\n",
    "    print(f\"Sum is {s}\")\n",
    "\n",
    "sum()"
   ]
  },
  {
   "cell_type": "markdown",
   "metadata": {},
   "source": [
    "# Function with a return statement"
   ]
  },
  {
   "cell_type": "code",
   "execution_count": 13,
   "metadata": {},
   "outputs": [
    {
     "name": "stdout",
     "output_type": "stream",
     "text": [
      "None\n"
     ]
    }
   ],
   "source": [
    "def sumWithReturn(a, b):\n",
    "    total = a + b\n",
    "    return total\n",
    "\n",
    "def even_or_odd(number):\n",
    "    if number % 2 == 0:\n",
    "        return \"Even\"\n",
    "    else:\n",
    "        return \"Odd\"\n",
    "\n",
    "\n",
    "out = even_or_odd(4)\n",
    "print(out)"
   ]
  },
  {
   "cell_type": "markdown",
   "metadata": {},
   "source": [
    "# Calling a function"
   ]
  },
  {
   "cell_type": "markdown",
   "metadata": {},
   "source": [
    "## Function call with positional arguments"
   ]
  },
  {
   "cell_type": "code",
   "execution_count": null,
   "metadata": {},
   "outputs": [],
   "source": [
    "printName(\"Raj\")\n",
    "printNameAndScore(\"Raj\", 56)"
   ]
  },
  {
   "cell_type": "markdown",
   "metadata": {},
   "source": [
    "## Function call with keyword arguments"
   ]
  },
  {
   "cell_type": "code",
   "execution_count": 70,
   "metadata": {},
   "outputs": [
    {
     "name": "stdout",
     "output_type": "stream",
     "text": [
      "Hello Raj\n",
      "Raj has scored 56 marks\n",
      "Raj has scored 56 marks\n"
     ]
    }
   ],
   "source": [
    "printName(name=\"Raj\")\n",
    "printNameAndScore(name=\"Raj\", score=56)\n",
    "printNameAndScore(\"Raj\", score=56)"
   ]
  },
  {
   "cell_type": "markdown",
   "metadata": {},
   "source": [
    "# Examples"
   ]
  },
  {
   "cell_type": "code",
   "execution_count": 1,
   "metadata": {},
   "outputs": [],
   "source": [
    "def listOfFruits(n):\n",
    "    \"\"\"\n",
    "    Return a list of fruits\n",
    "    \"\"\"\n",
    "    fruits = []\n",
    "    for i in range(n):\n",
    "        name = input(\"Enter Name: \")\n",
    "        fruits.append(name)\n",
    "    return fruits"
   ]
  },
  {
   "cell_type": "code",
   "execution_count": 2,
   "metadata": {},
   "outputs": [
    {
     "name": "stdin",
     "output_type": "stream",
     "text": [
      "Enter the total number of fruits: 3\n",
      "Enter Name:  A\n",
      "Enter Name:  b\n",
      "Enter Name:  c\n"
     ]
    },
    {
     "name": "stdout",
     "output_type": "stream",
     "text": [
      "['A', 'b', 'c']\n"
     ]
    }
   ],
   "source": [
    "total_fruits = int(input(\"Enter the total number of fruits:\"))\n",
    "fruit_Names = listOfFruits(total_fruits)\n",
    "print(fruit_Names)"
   ]
  },
  {
   "cell_type": "code",
   "execution_count": 3,
   "metadata": {},
   "outputs": [
    {
     "name": "stdin",
     "output_type": "stream",
     "text": [
      "Enter Name:  a\n",
      "Enter Name:  b\n",
      "Enter Name:  c\n",
      "Enter Name:  d\n",
      "Enter Name:  e\n",
      "Enter Name:  f\n"
     ]
    },
    {
     "name": "stdout",
     "output_type": "stream",
     "text": [
      "['a', 'b', 'c', 'd', 'e', 'f']\n"
     ]
    }
   ],
   "source": [
    "f = listOfFruits(6)\n",
    "print(f)"
   ]
  },
  {
   "cell_type": "code",
   "execution_count": null,
   "metadata": {},
   "outputs": [],
   "source": []
  }
 ],
 "metadata": {
  "kernelspec": {
   "display_name": "Python 3",
   "language": "python",
   "name": "python3"
  },
  "language_info": {
   "codemirror_mode": {
    "name": "ipython",
    "version": 3
   },
   "file_extension": ".py",
   "mimetype": "text/x-python",
   "name": "python",
   "nbconvert_exporter": "python",
   "pygments_lexer": "ipython3",
   "version": "3.7.9"
  }
 },
 "nbformat": 4,
 "nbformat_minor": 4
}
