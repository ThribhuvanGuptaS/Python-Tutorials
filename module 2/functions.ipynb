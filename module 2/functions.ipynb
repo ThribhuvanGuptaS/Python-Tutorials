{
 "cells": [
  {
   "cell_type": "markdown",
   "metadata": {},
   "source": [
    "# Functions"
   ]
  },
  {
   "cell_type": "code",
   "execution_count": null,
   "metadata": {},
   "outputs": [],
   "source": []
  },
  {
   "cell_type": "code",
   "execution_count": null,
   "metadata": {},
   "outputs": [],
   "source": [
    "# collection of code\n",
    "\n",
    "def even_in_limit():\n",
    "    within = int(input(\"How much is the limit? \"))\n",
    "    for number in range(0, within, 2):\n",
    "        print(number)\n",
    "x = 25\n",
    "even_in_limit()\n",
    "even_in_limit()\n",
    "even_in_limit()\n",
    "even_in_limit()"
   ]
  },
  {
   "cell_type": "code",
   "execution_count": null,
   "metadata": {},
   "outputs": [],
   "source": [
    "def sum(x, y):\n",
    "    print(x+y)\n",
    "for i in range(5):\n",
    "    a = int(input())\n",
    "    b = int(input())\n",
    "    sum(a, b)\n"
   ]
  },
  {
   "cell_type": "code",
   "execution_count": 19,
   "metadata": {},
   "outputs": [],
   "source": [
    "def sum_of_even(numbers):\n",
    "    sum = 0\n",
    "    for num in numbers:\n",
    "        if num%2 == 0:\n",
    "            sum += num\n",
    "    print(\"Even sum: \", sum)\n",
    "    \n",
    "def sum_of_odd(numbers):\n",
    "    sum = 0\n",
    "    for num in numbers:\n",
    "        if num%2 != 0:\n",
    "            sum += num\n",
    "    print(\"Odd sum: \", sum)"
   ]
  },
  {
   "cell_type": "code",
   "execution_count": 17,
   "metadata": {},
   "outputs": [],
   "source": [
    "def testforloop():\n",
    "    for i in range(2):\n",
    "        numbers = []\n",
    "        how_many = int(input(\"Total numbers: \"))\n",
    "\n",
    "        for i in range(how_many):\n",
    "            num = int(input(\"Number: \"))\n",
    "            numbers.append(num)\n",
    "\n",
    "        decision = input(\"Even sum or Odd sum? \")\n",
    "\n",
    "        sum_of_even(numbers) if decision.casefold() == \"even\" else sum_of_odd(numbers)"
   ]
  },
  {
   "cell_type": "code",
   "execution_count": null,
   "metadata": {},
   "outputs": [],
   "source": [
    "numbers = [1, 4, 5, 6, 8]\n",
    "sum_of_odd(numbers)"
   ]
  },
  {
   "cell_type": "markdown",
   "metadata": {},
   "source": [
    "### Check if can form a triangle"
   ]
  },
  {
   "cell_type": "code",
   "execution_count": 12,
   "metadata": {},
   "outputs": [],
   "source": [
    "def isTriangle(a, b, c):\n",
    "    if a + b <= c or a + c <= b or b + c <= a:\n",
    "        return False\n",
    "    else:\n",
    "        return True"
   ]
  },
  {
   "cell_type": "code",
   "execution_count": 13,
   "metadata": {},
   "outputs": [
    {
     "name": "stdout",
     "output_type": "stream",
     "text": [
      "[1, 2, 3]\n"
     ]
    }
   ],
   "source": [
    "print(isTriangle(a=1, b=4, c=1))"
   ]
  },
  {
   "cell_type": "code",
   "execution_count": 14,
   "metadata": {},
   "outputs": [],
   "source": [
    "def isTriangle():\n",
    "    a = int(input())\n",
    "    b = int(input())\n",
    "    c = int(input())\n",
    "    if a + b <= c or a + c <= b or b + c <= a:\n",
    "        return False\n",
    "    else:\n",
    "        return True"
   ]
  },
  {
   "cell_type": "code",
   "execution_count": 16,
   "metadata": {},
   "outputs": [
    {
     "name": "stdin",
     "output_type": "stream",
     "text": [
      " 1\n",
      " 2\n",
      " 3\n"
     ]
    },
    {
     "name": "stdout",
     "output_type": "stream",
     "text": [
      "False\n"
     ]
    }
   ],
   "source": [
    "print(isTriangle())"
   ]
  },
  {
   "cell_type": "code",
   "execution_count": 20,
   "metadata": {},
   "outputs": [
    {
     "name": "stdin",
     "output_type": "stream",
     "text": [
      "Total numbers:  4\n",
      "Number:  1\n",
      "Number:  2\n",
      "Number:  3\n",
      "Number:  4\n",
      "Even sum or Odd sum?  even\n"
     ]
    },
    {
     "name": "stdout",
     "output_type": "stream",
     "text": [
      "Even sum:  6\n"
     ]
    },
    {
     "name": "stdin",
     "output_type": "stream",
     "text": [
      "Total numbers:  2\n",
      "Number:  1\n",
      "Number:  2\n",
      "Even sum or Odd sum?  odd\n"
     ]
    },
    {
     "name": "stdout",
     "output_type": "stream",
     "text": [
      "Odd sum:  1\n"
     ]
    }
   ],
   "source": [
    "testforloop()"
   ]
  },
  {
   "cell_type": "code",
   "execution_count": 21,
   "metadata": {},
   "outputs": [],
   "source": [
    "def printnames(names):\n",
    "    for name in range(len(names)):\n",
    "        print(f\"Hello {name}\")"
   ]
  },
  {
   "cell_type": "code",
   "execution_count": 22,
   "metadata": {},
   "outputs": [
    {
     "name": "stdout",
     "output_type": "stream",
     "text": [
      "Hello 0\n",
      "Hello 1\n",
      "Hello 2\n"
     ]
    }
   ],
   "source": [
    "names_list = [\"A\", \"B\", \"c\"]\n",
    "\n",
    "printnames(names_list)"
   ]
  },
  {
   "cell_type": "code",
   "execution_count": 13,
   "metadata": {},
   "outputs": [
    {
     "name": "stdout",
     "output_type": "stream",
     "text": [
      "2 1 2\n",
      "2 1 5\n",
      "1 1 2\n"
     ]
    }
   ],
   "source": [
    "# global\n",
    "def printab(a, c=2, b=1):\n",
    "    print(a, b, c)\n",
    "\n",
    "printab(2)\n",
    "printab(2, 5)\n",
    "printab(a=1)\n",
    "\n",
    "\n"
   ]
  },
  {
   "cell_type": "code",
   "execution_count": null,
   "metadata": {},
   "outputs": [],
   "source": []
  },
  {
   "cell_type": "code",
   "execution_count": null,
   "metadata": {},
   "outputs": [],
   "source": []
  }
 ],
 "metadata": {
  "kernelspec": {
   "display_name": "Python 3",
   "language": "python",
   "name": "python3"
  },
  "language_info": {
   "codemirror_mode": {
    "name": "ipython",
    "version": 3
   },
   "file_extension": ".py",
   "mimetype": "text/x-python",
   "name": "python",
   "nbconvert_exporter": "python",
   "pygments_lexer": "ipython3",
   "version": "3.7.9"
  }
 },
 "nbformat": 4,
 "nbformat_minor": 4
}
