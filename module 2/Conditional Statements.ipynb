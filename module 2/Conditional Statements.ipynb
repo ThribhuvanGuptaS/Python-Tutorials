{
 "cells": [
  {
   "cell_type": "markdown",
   "metadata": {},
   "source": [
    "# Conditional Statements"
   ]
  },
  {
   "cell_type": "markdown",
   "metadata": {},
   "source": [
    "## If Conditions\n",
    "Used to run a group of statements only when the condition is True\n"
   ]
  },
  {
   "cell_type": "code",
   "execution_count": null,
   "metadata": {},
   "outputs": [],
   "source": [
    "A = int(input(\"Enter a number: \"))\n",
    "if A > 0:\n",
    "    print(\"A is Positive\")"
   ]
  },
  {
   "cell_type": "markdown",
   "metadata": {},
   "source": [
    "## if - else statements\n",
    "When the condition is True, the statements under if condtion are executed otherwise the statements under else are executed\n",
    "###### Note : \"else\" statements are optional and not compulsory but else should always be specified after an if condition only"
   ]
  },
  {
   "cell_type": "code",
   "execution_count": null,
   "metadata": {},
   "outputs": [],
   "source": [
    "A = int(input(\"Enter a number: \"))\n",
    "if A > 0:\n",
    "    print(\"A is Positive\")\n",
    "else:\n",
    "    print(\"A is negative\")"
   ]
  },
  {
   "cell_type": "markdown",
   "metadata": {},
   "source": [
    "## if - elif - else statements\n",
    "When mulitple conditional statements are to be checked we can use if-elif-else to chain all the conditions"
   ]
  },
  {
   "cell_type": "code",
   "execution_count": null,
   "metadata": {
    "jupyter": {
     "source_hidden": true
    }
   },
   "outputs": [],
   "source": [
    "A = int(input(\"Enter a number: \"))\n",
    "if A > 0:\n",
    "    print(\"A is Positive\")\n",
    "elif A < 0:\n",
    "    print(\"A is negative\")\n",
    "else:\n",
    "    print(\"A is equal to zero\")"
   ]
  },
  {
   "cell_type": "markdown",
   "metadata": {},
   "source": [
    "## Shorthand if"
   ]
  },
  {
   "cell_type": "code",
   "execution_count": 17,
   "metadata": {},
   "outputs": [
    {
     "name": "stdin",
     "output_type": "stream",
     "text": [
      "Enter a number:  45\n"
     ]
    },
    {
     "name": "stdout",
     "output_type": "stream",
     "text": [
      "A is Positive\n"
     ]
    }
   ],
   "source": [
    "A = int(input(\"Enter a number: \"))\n",
    "if A > 0: print(\"A is Positive\")"
   ]
  },
  {
   "cell_type": "markdown",
   "metadata": {},
   "source": [
    "## Shorthand if-else\n",
    "We can combine the multiple lines of if-else statements into a single line of code usinf the shorthand notation\n",
    "\n",
    "#### Syntax: [if-expression] if [condition] else [else-expression]"
   ]
  },
  {
   "cell_type": "code",
   "execution_count": null,
   "metadata": {},
   "outputs": [],
   "source": [
    "A = int(input(\"Enter a number: \"))\n",
    "print(\"A is Positive\") if A > 0 else print(\"A is Negative\")"
   ]
  },
  {
   "cell_type": "markdown",
   "metadata": {},
   "source": [
    "#### Syntax : (([else-statement], [if-statement])[condition])"
   ]
  },
  {
   "cell_type": "code",
   "execution_count": null,
   "metadata": {},
   "outputs": [],
   "source": [
    "A = int(input(\"Enter a number: \"))\n",
    "print((\"A is Negative\", \"A is Positive\")[A > 0])"
   ]
  },
  {
   "cell_type": "code",
   "execution_count": 23,
   "metadata": {},
   "outputs": [
    {
     "name": "stdin",
     "output_type": "stream",
     "text": [
      "Enter a number:  -34\n"
     ]
    },
    {
     "name": "stdout",
     "output_type": "stream",
     "text": [
      "-1\n"
     ]
    }
   ],
   "source": [
    "A = int(input(\"Enter a number: \"))\n",
    "B = ((-1, 1)[A > 0])\n",
    "print(B)"
   ]
  },
  {
   "cell_type": "code",
   "execution_count": null,
   "metadata": {},
   "outputs": [],
   "source": []
  }
 ],
 "metadata": {
  "kernelspec": {
   "display_name": "Python 3",
   "language": "python",
   "name": "python3"
  },
  "language_info": {
   "codemirror_mode": {
    "name": "ipython",
    "version": 3
   },
   "file_extension": ".py",
   "mimetype": "text/x-python",
   "name": "python",
   "nbconvert_exporter": "python",
   "pygments_lexer": "ipython3",
   "version": "3.7.9"
  }
 },
 "nbformat": 4,
 "nbformat_minor": 4
}
