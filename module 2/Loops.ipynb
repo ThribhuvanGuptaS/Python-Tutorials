{
 "cells": [
  {
   "cell_type": "code",
   "execution_count": 18,
   "metadata": {},
   "outputs": [
    {
     "name": "stdout",
     "output_type": "stream",
     "text": [
      "1\n",
      "2\n",
      "3\n",
      "4\n",
      "5\n"
     ]
    }
   ],
   "source": [
    "print(\"1\")\n",
    "print(\"2\")\n",
    "print(\"3\")\n",
    "print(\"4\")\n",
    "print(\"5\")"
   ]
  },
  {
   "cell_type": "markdown",
   "metadata": {},
   "source": [
    "# For Loops"
   ]
  },
  {
   "cell_type": "code",
   "execution_count": 19,
   "metadata": {},
   "outputs": [
    {
     "name": "stdout",
     "output_type": "stream",
     "text": [
      "Hello 0\n",
      "Hello 1\n",
      "Hello 2\n",
      "Hello 3\n",
      "Hello 4\n"
     ]
    }
   ],
   "source": [
    "for number in range(5): # for number in [0, 1, 2, 3, 4]\n",
    "    print(f\"Hello {number}\")\n"
   ]
  },
  {
   "cell_type": "code",
   "execution_count": 20,
   "metadata": {},
   "outputs": [
    {
     "name": "stdout",
     "output_type": "stream",
     "text": [
      "a\n",
      "b\n",
      "c\n",
      "d\n",
      "e\n"
     ]
    }
   ],
   "source": [
    "ls = [\"a\", \"b\", \"c\", \"d\", \"e\"]\n",
    "for alphabet in ls:\n",
    "    print(alphabet)"
   ]
  },
  {
   "cell_type": "code",
   "execution_count": 21,
   "metadata": {},
   "outputs": [
    {
     "name": "stdout",
     "output_type": "stream",
     "text": [
      "Found P\n",
      "Found P\n"
     ]
    }
   ],
   "source": [
    "names = (\"Shreyas\", \"Vinay\")\n",
    "\n",
    "for letter in \"Python Programming\":\n",
    "    if letter == \"P\":\n",
    "        print(\"Found P\")"
   ]
  },
  {
   "cell_type": "markdown",
   "metadata": {},
   "source": [
    "count = {'p': 0, 'o': 0}\n",
    "\n",
    "for letter in \"python\":\n",
    "    if letter in count:\n",
    "        count[letter] += 1\n",
    "        print(count)\n",
    "\n",
    "print(\"Total Counts:\")\n",
    "print(count)\n"
   ]
  },
  {
   "cell_type": "markdown",
   "metadata": {},
   "source": [
    "# While loops\n",
    "Use when number of repeatitions is not known"
   ]
  },
  {
   "cell_type": "code",
   "execution_count": 25,
   "metadata": {},
   "outputs": [
    {
     "name": "stdout",
     "output_type": "stream",
     "text": [
      "Before Squaring 0\n",
      "Incremented to 1\n",
      "After Squaring 1\n",
      "\n",
      "Before Squaring 1\n",
      "Incremented to 2\n",
      "After Squaring 4\n",
      "\n",
      "Before Squaring 4\n",
      "After Squaring 16\n",
      "\n",
      "Before Squaring 16\n",
      "After Squaring 256\n",
      "\n",
      "Finished!\n"
     ]
    }
   ],
   "source": [
    "p = 0\n",
    "while(p < 100):\n",
    "    \n",
    "    print(f\"Before Squaring {p}\")\n",
    "    \n",
    "    if p == 0 or p == 1:\n",
    "        p = p + 1\n",
    "        print(f\"Incremented to {p}\")\n",
    "        \n",
    "    p = p * p\n",
    "    \n",
    "    print(f\"After Squaring {p}\\n\")\n",
    "    \n",
    "print(\"Finished!\")"
   ]
  },
  {
   "cell_type": "markdown",
   "metadata": {},
   "source": [
    "# Control Statements"
   ]
  },
  {
   "cell_type": "markdown",
   "metadata": {},
   "source": [
    "## break\n"
   ]
  },
  {
   "cell_type": "code",
   "execution_count": 22,
   "metadata": {},
   "outputs": [
    {
     "name": "stdout",
     "output_type": "stream",
     "text": [
      "0\n",
      "1\n",
      "2\n",
      "Found\n"
     ]
    }
   ],
   "source": [
    "for i in range(5):\n",
    "    if i == 3:\n",
    "        print(\"Found\")\n",
    "        break\n",
    "    print(i)"
   ]
  },
  {
   "cell_type": "markdown",
   "metadata": {},
   "source": [
    "## continue"
   ]
  },
  {
   "cell_type": "code",
   "execution_count": 23,
   "metadata": {},
   "outputs": [
    {
     "name": "stdout",
     "output_type": "stream",
     "text": [
      "0\n",
      "1\n",
      "2\n",
      "Found\n",
      "4\n"
     ]
    }
   ],
   "source": [
    "for i in range(5):\n",
    "    if i == 3:\n",
    "        print(\"Found\")\n",
    "        continue\n",
    "    print(i)"
   ]
  },
  {
   "cell_type": "markdown",
   "metadata": {},
   "source": [
    "## pass"
   ]
  },
  {
   "cell_type": "code",
   "execution_count": 24,
   "metadata": {},
   "outputs": [
    {
     "name": "stdout",
     "output_type": "stream",
     "text": [
      "0\n",
      "1\n",
      "2\n",
      "3\n",
      "4\n"
     ]
    }
   ],
   "source": [
    "for i in range(5):\n",
    "    if i == 3:\n",
    "        pass\n",
    "    print(i)"
   ]
  },
  {
   "cell_type": "markdown",
   "metadata": {},
   "source": [
    "# Adding elements to a list using loops"
   ]
  },
  {
   "cell_type": "code",
   "execution_count": 26,
   "metadata": {},
   "outputs": [
    {
     "name": "stdin",
     "output_type": "stream",
     "text": [
      "Give fruit name: Apple\n",
      "Give fruit name: Banana\n",
      "Give fruit name: Orange\n",
      "Give fruit name: Mango\n",
      "Give fruit name: Chickoo\n"
     ]
    },
    {
     "name": "stdout",
     "output_type": "stream",
     "text": [
      "['Apple', 'Banana', 'Orange', 'Mango', 'Chickoo']\n"
     ]
    }
   ],
   "source": [
    "fruits = []\n",
    "for number in range(5):\n",
    "    fruit = input(\"Give fruit name:\")\n",
    "    fruits.append(fruit)\n",
    "print(fruits)"
   ]
  },
  {
   "cell_type": "markdown",
   "metadata": {},
   "source": [
    "# Examples"
   ]
  },
  {
   "cell_type": "code",
   "execution_count": 31,
   "metadata": {},
   "outputs": [
    {
     "name": "stdin",
     "output_type": "stream",
     "text": [
      "How many numbers? 5\n",
      "What is the number? 1\n",
      "What is the number? 2\n",
      "What is the number? 3\n",
      "What is the number? 4\n",
      "What is the number? 5\n"
     ]
    },
    {
     "name": "stdout",
     "output_type": "stream",
     "text": [
      "\n",
      "Total is 15\n"
     ]
    }
   ],
   "source": [
    "# Take a list of numbers from user and print the sum of all the numbers in the list\n",
    "\n",
    "ls = []\n",
    "a = int(input(\"How many numbers?\"))\n",
    "for i in range(a):\n",
    "    number = int(input(\"What is the number?\"))\n",
    "    ls.append(number)\n",
    "sum = 0\n",
    "for element in ls:\n",
    "    sum = sum + element\n",
    "print(f'\\nTotal is {sum}')\n",
    "\n"
   ]
  },
  {
   "cell_type": "code",
   "execution_count": null,
   "metadata": {},
   "outputs": [],
   "source": []
  }
 ],
 "metadata": {
  "kernelspec": {
   "display_name": "Python 3",
   "language": "python",
   "name": "python3"
  },
  "language_info": {
   "codemirror_mode": {
    "name": "ipython",
    "version": 3
   },
   "file_extension": ".py",
   "mimetype": "text/x-python",
   "name": "python",
   "nbconvert_exporter": "python",
   "pygments_lexer": "ipython3",
   "version": "3.7.9"
  }
 },
 "nbformat": 4,
 "nbformat_minor": 4
}
