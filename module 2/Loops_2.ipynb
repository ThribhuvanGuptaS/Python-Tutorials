{
 "cells": [
  {
   "cell_type": "markdown",
   "metadata": {},
   "source": [
    "# Looping/Iterating through dictionary"
   ]
  },
  {
   "cell_type": "code",
   "execution_count": 19,
   "metadata": {},
   "outputs": [
    {
     "name": "stdout",
     "output_type": "stream",
     "text": [
      "Shreyas\n",
      "45\n",
      "67\n",
      "Vinay\n",
      "67\n",
      "78\n"
     ]
    }
   ],
   "source": [
    "d = {\"Shreyas\":[45, 67], \"Vinay\":[67, 78]}\n",
    "# [(\"Shreyas\", 45), (\"Vinay\", 67)]\n",
    "for key, val in d.items():\n",
    "    print(key)\n",
    "    for v in val:\n",
    "        print(v)"
   ]
  },
  {
   "cell_type": "markdown",
   "metadata": {},
   "source": [
    "# Looping through a string"
   ]
  },
  {
   "cell_type": "code",
   "execution_count": 4,
   "metadata": {},
   "outputs": [
    {
     "name": "stdout",
     "output_type": "stream",
     "text": [
      "H\n",
      "e\n",
      "l\n",
      "l\n",
      "o\n",
      " \n",
      "W\n",
      "o\n",
      "r\n",
      "l\n",
      "d\n",
      "!\n"
     ]
    }
   ],
   "source": [
    "text = \"Hello World!\"\n",
    "for letter in text:\n",
    "    print(letter)"
   ]
  },
  {
   "cell_type": "markdown",
   "metadata": {},
   "source": [
    "# Looping through tuples"
   ]
  },
  {
   "cell_type": "code",
   "execution_count": 20,
   "metadata": {},
   "outputs": [
    {
     "name": "stdout",
     "output_type": "stream",
     "text": [
      "1\n",
      "2\n",
      "3\n",
      "Hello\n"
     ]
    }
   ],
   "source": [
    "a_tuple = (1, 2, 3, \"Hello\")\n",
    "for ele in a_tuple:\n",
    "    print(ele)"
   ]
  },
  {
   "cell_type": "markdown",
   "metadata": {},
   "source": [
    "# Infinite While loop"
   ]
  },
  {
   "cell_type": "code",
   "execution_count": 24,
   "metadata": {},
   "outputs": [
    {
     "name": "stdout",
     "output_type": "stream",
     "text": [
      "0\n",
      "2\n",
      "4\n",
      "6\n",
      "Found\n"
     ]
    }
   ],
   "source": [
    "numbers = list(range(0, 10, 2))\n",
    "i = 0\n",
    "while(True):\n",
    "    if numbers[i] == 8:\n",
    "        print(\"Found\")\n",
    "        break\n",
    "    print(numbers[i])\n",
    "    i += 1\n",
    "    "
   ]
  },
  {
   "cell_type": "markdown",
   "metadata": {},
   "source": [
    "# Nested loops"
   ]
  },
  {
   "cell_type": "code",
   "execution_count": 16,
   "metadata": {},
   "outputs": [
    {
     "name": "stdout",
     "output_type": "stream",
     "text": [
      "Shreyas\n",
      "Maths\n",
      "98\n",
      "Maths\n",
      "99\n",
      "Vinay\n",
      "Science\n",
      "99\n",
      "Science\n",
      "98\n"
     ]
    }
   ],
   "source": [
    "names = [\"Shreyas\", \"Vinay\"]\n",
    "subjects = [\"Maths\", \"Science\"]\n",
    "scores =[[98, 99], [99, 98]]\n",
    "\n",
    "# name:\n",
    "# Subject_name\n",
    "# score\n",
    "# Subject_name\n",
    "# score\n"
   ]
  },
  {
   "cell_type": "code",
   "execution_count": 41,
   "metadata": {},
   "outputs": [
    {
     "name": "stdout",
     "output_type": "stream",
     "text": [
      "Hello\n"
     ]
    },
    {
     "name": "stdin",
     "output_type": "stream",
     "text": [
      ": hu\n"
     ]
    },
    {
     "name": "stdout",
     "output_type": "stream",
     "text": [
      "Hello\n"
     ]
    },
    {
     "name": "stdin",
     "output_type": "stream",
     "text": [
      ": bye\n"
     ]
    }
   ],
   "source": [
    "while(True):\n",
    "    print(\"Hello\")\n",
    "    something = input(\":\")\n",
    "    if something == \"bye\":\n",
    "        break"
   ]
  },
  {
   "cell_type": "code",
   "execution_count": 11,
   "metadata": {},
   "outputs": [
    {
     "name": "stdout",
     "output_type": "stream",
     "text": [
      "1000\n",
      "99\n",
      "45\n",
      "1\n"
     ]
    }
   ],
   "source": [
    "numbers = [1, 45, 99, 1000]\n",
    "for i in range(1, 5):  \n",
    "    print(numbers[-i])"
   ]
  },
  {
   "cell_type": "code",
   "execution_count": 11,
   "metadata": {},
   "outputs": [
    {
     "name": "stdout",
     "output_type": "stream",
     "text": [
      "[('Shreyas', [45, 67]), ('Vinay', [67, 78])]\n",
      "\n",
      "\n",
      "Shreyas : [45, 67]\n",
      "Vinay : [67, 78]\n"
     ]
    }
   ],
   "source": [
    "d = {\"Shreyas\":[45, 67], \"Vinay\":[67, 78]}\n",
    "print(list(d.items()))\n",
    "print(\"\\n\")\n",
    "\n",
    "for key, value in d.items():\n",
    "    print(f'{key} : {value}')\n"
   ]
  },
  {
   "cell_type": "code",
   "execution_count": null,
   "metadata": {},
   "outputs": [],
   "source": []
  }
 ],
 "metadata": {
  "kernelspec": {
   "display_name": "Python 3",
   "language": "python",
   "name": "python3"
  },
  "language_info": {
   "codemirror_mode": {
    "name": "ipython",
    "version": 3
   },
   "file_extension": ".py",
   "mimetype": "text/x-python",
   "name": "python",
   "nbconvert_exporter": "python",
   "pygments_lexer": "ipython3",
   "version": "3.7.9"
  }
 },
 "nbformat": 4,
 "nbformat_minor": 4
}
